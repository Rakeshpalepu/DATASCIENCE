{
 "cells": [
  {
   "cell_type": "markdown",
   "id": "2f84868f",
   "metadata": {},
   "source": [
    "# Data Science Tools and Ecosystem"
   ]
  },
  {
   "cell_type": "markdown",
   "id": "8bca8555",
   "metadata": {},
   "source": [
    "In the notebook,Datascience Tools and Ecosystem are summarized ."
   ]
  },
  {
   "cell_type": "markdown",
   "id": "bfb0bedf",
   "metadata": {},
   "source": [
    "some of the popular languages used by datascientists are :\n",
    "1.PYTHON \n",
    "2.R PROGRAMMING\n",
    "3.SQL\n",
    "4.JAVA\n"
   ]
  },
  {
   "cell_type": "markdown",
   "id": "65f17c96",
   "metadata": {},
   "source": [
    "some of the commonly used libraries in Datascience are :\n",
    "    1.Tensorflow\n",
    "    2.NumPy\n",
    "    3.SciPy\n",
    "    4.Pandas\n",
    "    5.PyTorch\n",
    "    6.Matplotlib\n",
    "    7.keras\n",
    " \n",
    "    "
   ]
  },
  {
   "cell_type": "markdown",
   "id": "63bdff11",
   "metadata": {},
   "source": [
    "|Data science Tools| \n",
    "|---------------|    \n",
    "|SAS|\n",
    "|Tensorflow|\n",
    "|Apache Hadoop|\n"
   ]
  },
  {
   "cell_type": "markdown",
   "id": "1c33a713",
   "metadata": {},
   "source": [
    "### Below are few examples of arithmetic expressions in python\n",
    " "
   ]
  },
  {
   "cell_type": "code",
   "execution_count": 1,
   "id": "6d881b5a",
   "metadata": {},
   "outputs": [
    {
     "data": {
      "text/plain": [
       "17"
      ]
     },
     "execution_count": 1,
     "metadata": {},
     "output_type": "execute_result"
    }
   ],
   "source": [
    "(3*4)+5 #this is a arithmetic example to muliply and addition of integers\n"
   ]
  },
  {
   "cell_type": "code",
   "execution_count": 2,
   "id": "1c321305",
   "metadata": {},
   "outputs": [
    {
     "data": {
      "text/plain": [
       "3.3333333333333335"
      ]
     },
     "execution_count": 2,
     "metadata": {},
     "output_type": "execute_result"
    }
   ],
   "source": [
    "200/60 #this will convert 200 minutes to hours by dividing with 60\n"
   ]
  },
  {
   "cell_type": "markdown",
   "id": "b3429a00",
   "metadata": {},
   "source": [
    "__objective__\n",
    "* list popular languages for Data Science \n",
    "* list popular libraries for Data Science \n",
    "* list of well known Data Science Tools\n",
    "* How to provide comments in the cell\n"
   ]
  },
  {
   "cell_type": "markdown",
   "id": "f9cd9a39",
   "metadata": {},
   "source": [
    "#### Author \n",
    "Narasimha Rakesh Palepu"
   ]
  }
 ],
 "metadata": {
  "kernelspec": {
   "display_name": "Python 3 (ipykernel)",
   "language": "python",
   "name": "python3"
  },
  "language_info": {
   "codemirror_mode": {
    "name": "ipython",
    "version": 3
   },
   "file_extension": ".py",
   "mimetype": "text/x-python",
   "name": "python",
   "nbconvert_exporter": "python",
   "pygments_lexer": "ipython3",
   "version": "3.11.5"
  }
 },
 "nbformat": 4,
 "nbformat_minor": 5
}
